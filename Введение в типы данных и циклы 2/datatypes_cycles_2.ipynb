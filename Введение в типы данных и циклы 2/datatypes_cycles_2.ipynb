{
 "cells": [
  {
   "cell_type": "markdown",
   "metadata": {},
   "source": [
    "**Задание 1**. Дан список с визитами по городам и странам. \n",
    "Напишите код, который возвращает отфильтрованный список geo_logs, содержащий только визиты из России."
   ]
  },
  {
   "cell_type": "code",
   "execution_count": 14,
   "metadata": {},
   "outputs": [],
   "source": [
    "geo_logs = [\n",
    "    {'visit1': ['Москва', 'Россия']},\n",
    "    {'visit2': ['Дели', 'Индия']},\n",
    "    {'visit3': ['Владимир', 'Россия']},\n",
    "    {'visit4': ['Лиссабон', 'Португалия']},\n",
    "    {'visit5': ['Париж', 'Франция']},\n",
    "    {'visit6': ['Лиссабон', 'Португалия']},\n",
    "    {'visit7': ['Тула', 'Россия']},\n",
    "    {'visit8': ['Тула', 'Россия']},\n",
    "    {'visit9': ['Курск', 'Россия']},\n",
    "    {'visit10': ['Архангельск', 'Россия']}\n",
    "]"
   ]
  },
  {
   "cell_type": "code",
   "execution_count": 71,
   "metadata": {},
   "outputs": [
    {
     "name": "stdout",
     "output_type": "stream",
     "text": [
      "['visit1', 'visit3', 'visit7', 'visit8', 'visit9', 'visit10']\n"
     ]
    }
   ],
   "source": [
    "visit_list = []\n",
    "for geo_visit in geo_logs:\n",
    "    for visit, geo_city in geo_visit.items():\n",
    "        if geo_city[1] == 'Россия':\n",
    "            visit_list.append(visit)\n",
    "print(visit_list)\n"
   ]
  },
  {
   "cell_type": "code",
   "execution_count": 72,
   "metadata": {},
   "outputs": [],
   "source": [
    "# print('Визиты из России:')\n",
    "# for geo_visit in geo_logs:\n",
    "# #     print(geo_visit)\n",
    "#     for geo_city in geo_visit.values():\n",
    "# #         print(geo_city)\n",
    "#         if geo_city[1] == 'Россия':\n",
    "#             print(geo_visit)\n",
    "            \n"
   ]
  },
  {
   "cell_type": "markdown",
   "metadata": {},
   "source": [
    "**Задание 2**. Выведите на экран все уникальные гео-ID из значений словаря ids. Т. е. список вида [213, 15, 54, 119, 98, 35]"
   ]
  },
  {
   "cell_type": "code",
   "execution_count": 75,
   "metadata": {},
   "outputs": [],
   "source": [
    "ids = {'user1': [213, 213, 213, 15, 213], \n",
    "       'user2': [54, 54, 119, 119, 119], \n",
    "       'user3': [213, 98, 98, 35]}"
   ]
  },
  {
   "cell_type": "code",
   "execution_count": 89,
   "metadata": {},
   "outputs": [
    {
     "name": "stdout",
     "output_type": "stream",
     "text": [
      "[98, 35, 15, 213, 54, 119]\n"
     ]
    }
   ],
   "source": [
    "uniq_id = ([])\n",
    "for values in ids.values():\n",
    "    uniq_id += values\n",
    "print(list(set(uniq_id)))\n",
    "    "
   ]
  },
  {
   "cell_type": "code",
   "execution_count": 88,
   "metadata": {},
   "outputs": [],
   "source": [
    "# user1 = set(list(ids.values())[0])\n",
    "# user2 = set(list(ids.values())[1])\n",
    "# user3 = set(list(ids.values())[2])\n",
    "# print(list(user1 | user2 | user3))"
   ]
  },
  {
   "cell_type": "markdown",
   "metadata": {},
   "source": [
    "**Задание 3**. Дан список поисковых запросов. Получить распределение количества слов в них. \n",
    "Т. е. поисковых запросов из одного - слова 5%, из двух - 7%, из трех - 3% и т.д."
   ]
  },
  {
   "cell_type": "code",
   "execution_count": 91,
   "metadata": {},
   "outputs": [],
   "source": [
    "queries = [\n",
    "    'смотреть сериалы онлайн',\n",
    "    'новости спорта',\n",
    "    'афиша кино',\n",
    "    'курс доллара',\n",
    "    'сериалы этим летом',\n",
    "    'курс по питону',\n",
    "    'сериалы про спорт',\n",
    "]"
   ]
  },
  {
   "cell_type": "code",
   "execution_count": 166,
   "metadata": {},
   "outputs": [
    {
     "name": "stdout",
     "output_type": "stream",
     "text": [
      "Поисковых запросов: \n",
      "из 2 слов - 42.9 %\n",
      "из 3 слов - 57.1 %\n"
     ]
    }
   ],
   "source": [
    "word_count_list = []\n",
    "for query in queries:\n",
    "    query = len(query.split(' '))\n",
    "    word_count_list.append(query)\n",
    "# print(word_count_list)\n",
    "print('Поисковых запросов: ')\n",
    "word_uniq_list = list(set(count_list))\n",
    "for i in word_uniq_list:\n",
    "    search_list = word_count_list.count(i)\n",
    "    print(f'из {i} слов - {round(search_list/len(queries)*100, 1)} %')\n",
    "\n"
   ]
  },
  {
   "cell_type": "code",
   "execution_count": 167,
   "metadata": {},
   "outputs": [],
   "source": [
    "# word1 = 0\n",
    "# word2 = 0\n",
    "# word3 = 0\n",
    "# word4 = 0\n",
    "# for query in queries:\n",
    "#     if len(query.split(' ')) > 3:\n",
    "#         word4 += 1\n",
    "#     elif len(query.split(' ')) > 2:\n",
    "#         word3 += 1\n",
    "#     elif len(query.split(' ')) > 1:\n",
    "#         word2 += 1\n",
    "#     elif len(query.split(' ')) > 0:\n",
    "#         word1 += 1\n",
    "\n",
    "# print(f'из одного - {word1/len(queries)*100}%; из двух - {round(word2/len(queries)*100, 1)}%; \\\n",
    "# из трех - {round(word3/len(queries)*100, 1)}%; из четырех и более - {round(word4/len(queries)*100, 1)}%')\n"
   ]
  },
  {
   "cell_type": "markdown",
   "metadata": {},
   "source": [
    "**Задание 4**. Дана статистика рекламных каналов по объемам продаж. Напишите скрипт, который возвращает название канала с максимальным объемом.\n",
    "Т. е. в данном примере скрипт должен возвращать 'yandex'."
   ]
  },
  {
   "cell_type": "code",
   "execution_count": 1,
   "metadata": {},
   "outputs": [],
   "source": [
    "stats = {'facebook': 55, 'yandex': 120, 'vk': 115, 'google': 99, 'email': 42, 'ok': 98}"
   ]
  },
  {
   "cell_type": "code",
   "execution_count": 168,
   "metadata": {},
   "outputs": [],
   "source": [
    "# for key, value in stats.items():\n",
    "#     if value == max(stats.values()):\n",
    "#         print(key)\n"
   ]
  },
  {
   "cell_type": "markdown",
   "metadata": {},
   "source": [
    "**В треде по вашей ссылки в основном решение с помощью функций, мне понравилось решение с лямбдой, но лекция по функциям у нас была только после этого ДЗ**"
   ]
  },
  {
   "cell_type": "code",
   "execution_count": 13,
   "metadata": {},
   "outputs": [
    {
     "data": {
      "text/plain": [
       "'yandex'"
      ]
     },
     "execution_count": 13,
     "metadata": {},
     "output_type": "execute_result"
    }
   ],
   "source": [
    "max_key = max(stats, key=lambda k: stats[k])\n",
    "max_key"
   ]
  },
  {
   "cell_type": "markdown",
   "metadata": {},
   "source": [
    "**Задание 5**. Напишите код для преобразования произвольного списка вида ['2018-01-01', 'yandex', 'cpc', 100] (он может быть любой длины) в словарь {'2018-01-01': {'yandex': {'cpc': 100}}}"
   ]
  },
  {
   "cell_type": "code",
   "execution_count": 401,
   "metadata": {},
   "outputs": [
    {
     "name": "stdout",
     "output_type": "stream",
     "text": [
      "{'2018-01-01': {'yandex': {'cpc': 100}}}\n"
     ]
    }
   ],
   "source": [
    "random_list = ['2018-01-01', 'yandex', 'cpc', 100]\n",
    "\n",
    "result = random_list[-1]\n",
    "for v in reversed(random_list[:-1]):\n",
    "     result = {v: result}\n",
    "print(result)\n",
    "\n"
   ]
  }
 ],
 "metadata": {
  "kernelspec": {
   "display_name": "Python 3",
   "language": "python",
   "name": "python3"
  },
  "language_info": {
   "codemirror_mode": {
    "name": "ipython",
    "version": 3
   },
   "file_extension": ".py",
   "mimetype": "text/x-python",
   "name": "python",
   "nbconvert_exporter": "python",
   "pygments_lexer": "ipython3",
   "version": "3.7.4"
  }
 },
 "nbformat": 4,
 "nbformat_minor": 2
}
